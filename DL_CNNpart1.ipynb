{
  "cells": [
    {
      "cell_type": "markdown",
      "source": [
        "**Name : Dhruvi Shah**\n",
        "\n",
        "**Student ID : 202211032**\n",
        "\n",
        "**DL LAB - 6** "
      ],
      "metadata": {
        "id": "_cltL3OxernE"
      }
    },
    {
      "cell_type": "code",
      "execution_count": null,
      "metadata": {
        "id": "X0maZFrBcxkg"
      },
      "outputs": [],
      "source": [
        "import keras\n",
        "import tensorflow as tf\n",
        "from keras.models import Sequential\n",
        "from keras.layers import Dense, Dropout, Flatten\n",
        "from keras.layers import Conv2D, MaxPooling2D\n",
        "import numpy as np\n",
        "from tensorflow.keras.datasets import cifar10\n",
        "import matplotlib.pyplot as plt"
      ]
    },
    {
      "cell_type": "markdown",
      "source": [
        "# CIFAR10 classification using CNN from scratch"
      ],
      "metadata": {
        "id": "lLA418JoeOWP"
      }
    },
    {
      "cell_type": "code",
      "source": [
        "batch_size = 128\n",
        "num_classes = 10\n",
        "epochs = 10\n",
        "class_names=['airplane','automobile','bird','cat','deer','dog','frog','horse','ship','truck']\n",
        "\n",
        "# input image dimensions\n",
        "img_rows, img_cols = 32, 32\n",
        "\n",
        "# the data, split between train and test sets\n",
        "(x_train, y_train), (x_test, y_test) = cifar10.load_data()"
      ],
      "metadata": {
        "id": "iau3jBHlefqZ"
      },
      "execution_count": null,
      "outputs": []
    },
    {
      "cell_type": "code",
      "source": [
        "print('x_train shape:', x_train.shape)\n",
        "print(x_train.shape[0], 'train samples')\n",
        "print(x_test.shape[0], 'test samples')\n",
        "\n",
        "# If images are grayscale add fourth dimension to it\n",
        "#x_train = x_train.reshape(60000,28,28,1)\n",
        "#x_test = x_test.reshape(10000,28,28,1)\n",
        "\n",
        "# convert class vectors to binary class matrices\n",
        "y_train = tf.keras.utils.to_categorical(y_train, num_classes)\n",
        "y_test = tf.keras.utils.to_categorical(y_test, num_classes)"
      ],
      "metadata": {
        "colab": {
          "base_uri": "https://localhost:8080/"
        },
        "id": "vCSj7-T1ekAD",
        "outputId": "56aec113-24df-425c-f635-5d67eb1f0f14"
      },
      "execution_count": null,
      "outputs": [
        {
          "output_type": "stream",
          "name": "stdout",
          "text": [
            "x_train shape: (50000, 32, 32, 3)\n",
            "50000 train samples\n",
            "10000 test samples\n"
          ]
        }
      ]
    },
    {
      "cell_type": "code",
      "source": [
        "x_train=x_train/255.0\n",
        "x_test=x_test/255.0"
      ],
      "metadata": {
        "id": "yiIv8V5CfNJZ"
      },
      "execution_count": null,
      "outputs": []
    },
    {
      "cell_type": "code",
      "source": [
        "plt.imshow(x_test[1])"
      ],
      "metadata": {
        "colab": {
          "base_uri": "https://localhost:8080/",
          "height": 283
        },
        "id": "PlW2SrtNfSvE",
        "outputId": "e494deb5-7fcc-4a6b-bc75-cea698d903b1"
      },
      "execution_count": null,
      "outputs": [
        {
          "output_type": "execute_result",
          "data": {
            "text/plain": [
              "<matplotlib.image.AxesImage at 0x7f2f353b0670>"
            ]
          },
          "metadata": {},
          "execution_count": 7
        },
        {
          "output_type": "display_data",
          "data": {
            "text/plain": [
              "<Figure size 432x288 with 1 Axes>"
            ],
            "image/png": "[encoded data removed]"
          },
          "metadata": {
            "needs_background": "light"
          }
        }
      ]
    },
    {
      "cell_type": "markdown",
      "source": [
        "op = ((input - kernel size + 2*padding) / stride ) + 1"
      ],
      "metadata": {
        "id": "yBzpHuv7BB5G"
      }
    },
    {
      "cell_type": "code",
      "source": [
        "cifar10_model = tf.keras.models.Sequential()\n",
        "cifar10_model.add(tf.keras.layers.Conv2D(filters=32,kernel_size=3,padding=\"same\", activation=\"relu\", input_shape=[32,32,3]))\n",
        "cifar10_model.add(tf.keras.layers.Conv2D(filters=32,kernel_size=3,padding=\"same\", activation=\"relu\"))\n",
        "cifar10_model.add(tf.keras.layers.MaxPool2D(pool_size=2,strides=2,padding='valid'))\n",
        "cifar10_model.add(tf.keras.layers.Conv2D(filters=64,kernel_size=3,padding=\"same\", activation=\"relu\"))\n",
        "cifar10_model.add(tf.keras.layers.Conv2D(filters=64,kernel_size=3,padding=\"same\", activation=\"relu\"))\n",
        "cifar10_model.add(tf.keras.layers.MaxPool2D(pool_size=2,strides=2,padding='valid'))\n",
        "cifar10_model.add(tf.keras.layers.Flatten())\n",
        "cifar10_model.add(tf.keras.layers.Dropout(0.5,noise_shape=None,seed=None))\n",
        "cifar10_model.add(tf.keras.layers.Dense(units=128,activation='relu'))\n",
        "cifar10_model.add(tf.keras.layers.Dense(units=10,activation='softmax'))\n",
        "cifar10_model.summary()"
      ],
      "metadata": {
        "colab": {
          "base_uri": "https://localhost:8080/"
        },
        "id": "0L6dhHBzfaEe",
        "outputId": "2ae52040-aa1e-4c55-ef15-8252227b9359"
      },
      "execution_count": null,
      "outputs": [
        {
          "output_type": "stream",
          "name": "stdout",
          "text": [
            "Model: \"sequential\"\n",
            "_________________________________________________________________\n",
            " Layer (type)                Output Shape              Param #   \n",
            "=================================================================\n",
            " conv2d (Conv2D)             (None, 32, 32, 32)        896       \n",
            "                                                                 \n",
            " conv2d_1 (Conv2D)           (None, 32, 32, 32)        9248      \n",
            "                                                                 \n",
            " max_pooling2d (MaxPooling2D  (None, 16, 16, 32)       0         \n",
            " )                                                               \n",
            "                                                                 \n",
            " conv2d_2 (Conv2D)           (None, 16, 16, 64)        18496     \n",
            "                                                                 \n",
            " conv2d_3 (Conv2D)           (None, 16, 16, 64)        36928     \n",
            "                                                                 \n",
            " max_pooling2d_1 (MaxPooling  (None, 8, 8, 64)         0         \n",
            " 2D)                                                             \n",
            "                                                                 \n",
            " flatten (Flatten)           (None, 4096)              0         \n",
            "                                                                 \n",
            " dropout (Dropout)           (None, 4096)              0         \n",
            "                                                                 \n",
            " dense (Dense)               (None, 128)               524416    \n",
            "                                                                 \n",
            " dense_1 (Dense)             (None, 10)                1290      \n",
            "                                                                 \n",
            "=================================================================\n",
            "Total params: 591,274\n",
            "Trainable params: 591,274\n",
            "Non-trainable params: 0\n",
            "_________________________________________________________________\n"
          ]
        }
      ]
    },
    {
      "cell_type": "code",
      "source": [
        "cifar10_model.compile(loss='categorical_crossentropy', metrics=['accuracy'], optimizer='adam')\n",
        "cifar10_model.fit(x_train,y_train,epochs=10)"
      ],
      "metadata": {
        "id": "r17mYdWIgBCq",
        "outputId": "aa768fc2-3f39-4d96-d47c-3b978fc3f464",
        "colab": {
          "base_uri": "https://localhost:8080/"
        }
      },
      "execution_count": null,
      "outputs": [
        {
          "output_type": "stream",
          "name": "stdout",
          "text": [
            "Epoch 1/10\n",
            "1563/1563 [==============================] - 292s 186ms/step - loss: 1.4149 - accuracy: 0.4859\n",
            "Epoch 2/10\n",
            "1563/1563 [==============================] - 293s 187ms/step - loss: 1.0106 - accuracy: 0.6414\n",
            "Epoch 3/10\n",
            "1563/1563 [==============================] - 290s 186ms/step - loss: 0.8623 - accuracy: 0.6952\n",
            "Epoch 4/10\n",
            "1563/1563 [==============================] - 289s 185ms/step - loss: 0.7697 - accuracy: 0.7280\n",
            "Epoch 5/10\n",
            "1563/1563 [==============================] - 288s 184ms/step - loss: 0.6997 - accuracy: 0.7554\n",
            "Epoch 6/10\n",
            "1563/1563 [==============================] - 292s 187ms/step - loss: 0.6495 - accuracy: 0.7712\n",
            "Epoch 7/10\n",
            "1563/1563 [==============================] - 297s 190ms/step - loss: 0.6069 - accuracy: 0.7857\n",
            "Epoch 8/10\n",
            "1563/1563 [==============================] - 286s 183ms/step - loss: 0.5616 - accuracy: 0.8000\n",
            "Epoch 9/10\n",
            "1563/1563 [==============================] - 291s 186ms/step - loss: 0.5366 - accuracy: 0.8099\n",
            "Epoch 10/10\n",
            "1563/1563 [==============================] - 291s 186ms/step - loss: 0.5045 - accuracy: 0.8196\n"
          ]
        },
        {
          "output_type": "execute_result",
          "data": {
            "text/plain": [
              "<keras.callbacks.History at 0x7f2f2ea5c190>"
            ]
          },
          "metadata": {},
          "execution_count": 10
        }
      ]
    },
    {
      "cell_type": "code",
      "source": [
        "test_loss, test_accuracy = cifar10_model.evaluate(x_test, y_test)"
      ],
      "metadata": {
        "id": "Ie2IdzjBgOsH",
        "outputId": "315b7132-bf42-41f4-eaf7-1538115968a0",
        "colab": {
          "base_uri": "https://localhost:8080/"
        }
      },
      "execution_count": null,
      "outputs": [
        {
          "output_type": "stream",
          "name": "stdout",
          "text": [
            "313/313 [==============================] - 14s 45ms/step - loss: 0.7043 - accuracy: 0.7635\n"
          ]
        }
      ]
    },
    {
      "cell_type": "code",
      "source": [
        "print(\"Test accuracy: {}\".format(test_accuracy))"
      ],
      "metadata": {
        "id": "WjjuZsR5gQpn",
        "outputId": "9546cd2d-9705-46fd-dd30-30d57efb5b9f",
        "colab": {
          "base_uri": "https://localhost:8080/"
        }
      },
      "execution_count": null,
      "outputs": [
        {
          "output_type": "stream",
          "name": "stdout",
          "text": [
            "Test accuracy: 0.7634999752044678\n"
          ]
        }
      ]
    },
    {
      "cell_type": "markdown",
      "source": [
        "**Testing accuracy on the coloured cifar-10 dataset is 76%(Comaprison between cifar-10coloured and grayscale is done below**"
      ],
      "metadata": {
        "id": "yENwdAmd9yHk"
      }
    },
    {
      "cell_type": "markdown",
      "source": [
        "Q) Build CNN model and apply classification on MNIST-fashion dataset"
      ],
      "metadata": {
        "id": "AqG0pYTr-daV"
      }
    },
    {
      "cell_type": "markdown",
      "source": [
        "#CNN Fashion MNIST dataset"
      ],
      "metadata": {
        "id": "ihJqOeyYb_My"
      }
    },
    {
      "cell_type": "code",
      "execution_count": null,
      "metadata": {
        "id": "45g2w9iA2gt8"
      },
      "outputs": [],
      "source": [
        "# To load the mnist data\n",
        "from keras.datasets import fashion_mnist\n",
        "from tensorflow.keras.models import Sequential\n",
        " \n",
        "# importing various types of hidden layers\n",
        "from tensorflow.keras.layers import Conv2D, MaxPooling2D, Dense, Flatten\n",
        " \n",
        "# Adam optimizer for better LR and less loss\n",
        "from tensorflow.keras.optimizers import Adam\n",
        "import matplotlib.pyplot as plt\n",
        "import numpy as np"
      ]
    },
    {
      "cell_type": "code",
      "execution_count": null,
      "metadata": {
        "colab": {
          "base_uri": "https://localhost:8080/"
        },
        "id": "b2ZaqCbQ2mpp",
        "outputId": "174ce498-b957-4407-bb8a-465077e93d60"
      },
      "outputs": [
        {
          "name": "stdout",
          "output_type": "stream",
          "text": [
            "Downloading data from https://storage.googleapis.com/tensorflow/tf-keras-datasets/train-labels-idx1-ubyte.gz\n",
            "29515/29515 [==============================] - 0s 0us/step\n",
            "Downloading data from https://storage.googleapis.com/tensorflow/tf-keras-datasets/train-images-idx3-ubyte.gz\n",
            "26421880/26421880 [==============================] - 0s 0us/step\n",
            "Downloading data from https://storage.googleapis.com/tensorflow/tf-keras-datasets/t10k-labels-idx1-ubyte.gz\n",
            "5148/5148 [==============================] - 0s 0us/step\n",
            "Downloading data from https://storage.googleapis.com/tensorflow/tf-keras-datasets/t10k-images-idx3-ubyte.gz\n",
            "4422102/4422102 [==============================] - 0s 0us/step\n",
            "Train: X =  (60000, 28, 28)\n",
            "Test: X =  (10000, 28, 28)\n"
          ]
        }
      ],
      "source": [
        "\n",
        "# Split the data into training and testing\n",
        "(trainX, trainy), (testX, testy) = fashion_mnist.load_data()\n",
        " \n",
        "# Print the dimensions of the dataset\n",
        "print('Train: X = ', trainX.shape)\n",
        "print('Test: X = ', testX.shape)"
      ]
    },
    {
      "cell_type": "markdown",
      "metadata": {
        "id": "t7EXZ9TI2whV"
      },
      "source": [
        "#Data Visualization"
      ]
    },
    {
      "cell_type": "code",
      "execution_count": null,
      "metadata": {
        "colab": {
          "base_uri": "https://localhost:8080/",
          "height": 268
        },
        "id": "8dGLaPV02tKy",
        "outputId": "e30d0696-9639-4f98-bad0-3bc17c8dd135"
      },
      "outputs": [
        {
          "data": {
            "image/png": "[encoded data removed]",
            "text/plain": [
              "<Figure size 432x288 with 9 Axes>"
            ]
          },
          "metadata": {},
          "output_type": "display_data"
        }
      ],
      "source": [
        "for i in range(1, 10):\n",
        "    # Create a 3x3 grid and place the\n",
        "    # image in ith position of grid\n",
        "    plt.subplot(3, 3, i)\n",
        "    # Insert ith image with the color map 'grap'\n",
        "    plt.imshow(trainX[i], cmap=plt.get_cmap('gray'))\n",
        " \n",
        "# Display the entire plot\n",
        "plt.show()"
      ]
    },
    {
      "cell_type": "code",
      "execution_count": null,
      "metadata": {
        "colab": {
          "base_uri": "https://localhost:8080/"
        },
        "id": "G3YDYuZr22x4",
        "outputId": "5e3689e0-42a6-41b4-8a00-d2eb41c3e804"
      },
      "outputs": [
        {
          "name": "stdout",
          "output_type": "stream",
          "text": [
            "(60000, 28, 28, 1)\n"
          ]
        }
      ],
      "source": [
        "trainX = np.expand_dims(trainX, -1)\n",
        "testX = np.expand_dims(testX, -1)\n",
        " \n",
        "print(trainX.shape)"
      ]
    },
    {
      "cell_type": "markdown",
      "metadata": {
        "id": "U8guo1tw3Y_0"
      },
      "source": [
        "#Training the model"
      ]
    },
    {
      "cell_type": "code",
      "execution_count": null,
      "metadata": {
        "id": "5mKQbPGo2--4"
      },
      "outputs": [],
      "source": [
        "def model_arch():\n",
        "    models = Sequential()\n",
        "     \n",
        "    # We are learning 64\n",
        "    # filters with a kernel size of 5x5\n",
        "    models.add(Conv2D(64, (5, 5),\n",
        "                      padding=\"same\",\n",
        "                      activation=\"relu\",\n",
        "                      input_shape=(28, 28, 1)))\n",
        "     \n",
        "    # Max pooling will reduce the\n",
        "    # size with a kernel size of 2x2\n",
        "    models.add(MaxPooling2D(pool_size=(2, 2)))\n",
        "    models.add(Conv2D(128, (5, 5), padding=\"same\",\n",
        "                      activation=\"relu\"))\n",
        "     \n",
        "    models.add(MaxPooling2D(pool_size=(2, 2)))\n",
        "    models.add(Conv2D(256, (5, 5), padding=\"same\",\n",
        "                      activation=\"relu\"))\n",
        "     \n",
        "    models.add(MaxPooling2D(pool_size=(2, 2)))\n",
        "     \n",
        "    # Once the convolutional and pooling\n",
        "    # operations are done the layer\n",
        "    # is flattened and fully connected layers\n",
        "    # are added\n",
        "    models.add(Flatten())\n",
        "    models.add(Dense(256, activation=\"relu\"))\n",
        "     \n",
        "    # Finally as there are total 10\n",
        "    # classes to be added a FCC layer of\n",
        "    # 10 is created with a softmax activation\n",
        "    # function\n",
        "    models.add(Dense(10, activation=\"softmax\"))\n",
        "    return models"
      ]
    },
    {
      "cell_type": "code",
      "execution_count": null,
      "metadata": {
        "colab": {
          "base_uri": "https://localhost:8080/"
        },
        "id": "yL52UKnt3bPl",
        "outputId": "c0632f87-20fd-4f9c-f2fc-8274f18890a9"
      },
      "outputs": [
        {
          "name": "stdout",
          "output_type": "stream",
          "text": [
            "Model: \"sequential\"\n",
            "_________________________________________________________________\n",
            " Layer (type)                Output Shape              Param #   \n",
            "=================================================================\n",
            " conv2d (Conv2D)             (None, 28, 28, 64)        1664      \n",
            "                                                                 \n",
            " max_pooling2d (MaxPooling2D  (None, 14, 14, 64)       0         \n",
            " )                                                               \n",
            "                                                                 \n",
            " conv2d_1 (Conv2D)           (None, 14, 14, 128)       204928    \n",
            "                                                                 \n",
            " max_pooling2d_1 (MaxPooling  (None, 7, 7, 128)        0         \n",
            " 2D)                                                             \n",
            "                                                                 \n",
            " conv2d_2 (Conv2D)           (None, 7, 7, 256)         819456    \n",
            "                                                                 \n",
            " max_pooling2d_2 (MaxPooling  (None, 3, 3, 256)        0         \n",
            " 2D)                                                             \n",
            "                                                                 \n",
            " flatten (Flatten)           (None, 2304)              0         \n",
            "                                                                 \n",
            " dense (Dense)               (None, 256)               590080    \n",
            "                                                                 \n",
            " dense_1 (Dense)             (None, 10)                2570      \n",
            "                                                                 \n",
            "=================================================================\n",
            "Total params: 1,618,698\n",
            "Trainable params: 1,618,698\n",
            "Non-trainable params: 0\n",
            "_________________________________________________________________\n"
          ]
        }
      ],
      "source": [
        "model = model_arch()\n",
        " \n",
        "model.compile(optimizer=Adam(learning_rate=1e-3),\n",
        "              loss='sparse_categorical_crossentropy',\n",
        "              metrics=['sparse_categorical_accuracy'])\n",
        " \n",
        "model.summary()"
      ]
    },
    {
      "cell_type": "code",
      "execution_count": null,
      "metadata": {
        "colab": {
          "base_uri": "https://localhost:8080/"
        },
        "id": "r0aWGQ9b3eZV",
        "outputId": "ee133e7e-82b3-4e6b-934f-9c85bb5a6268"
      },
      "outputs": [
        {
          "name": "stdout",
          "output_type": "stream",
          "text": [
            "Epoch 1/10\n",
            "50/50 [==============================] - 416s 8s/step - loss: 1.2161 - sparse_categorical_accuracy: 0.6069 - val_loss: 0.4951 - val_sparse_categorical_accuracy: 0.8171\n",
            "Epoch 2/10\n",
            "50/50 [==============================] - 410s 8s/step - loss: 0.4286 - sparse_categorical_accuracy: 0.8462 - val_loss: 0.3828 - val_sparse_categorical_accuracy: 0.8637\n",
            "Epoch 3/10\n",
            "50/50 [==============================] - 409s 8s/step - loss: 0.3492 - sparse_categorical_accuracy: 0.8738 - val_loss: 0.3326 - val_sparse_categorical_accuracy: 0.8798\n",
            "Epoch 4/10\n",
            "50/50 [==============================] - 408s 8s/step - loss: 0.2967 - sparse_categorical_accuracy: 0.8937 - val_loss: 0.2969 - val_sparse_categorical_accuracy: 0.8941\n",
            "Epoch 5/10\n",
            "50/50 [==============================] - 407s 8s/step - loss: 0.2666 - sparse_categorical_accuracy: 0.9038 - val_loss: 0.2851 - val_sparse_categorical_accuracy: 0.8973\n",
            "Epoch 6/10\n",
            "50/50 [==============================] - 407s 8s/step - loss: 0.2452 - sparse_categorical_accuracy: 0.9121 - val_loss: 0.3006 - val_sparse_categorical_accuracy: 0.8939\n",
            "Epoch 7/10\n",
            "50/50 [==============================] - 408s 8s/step - loss: 0.2381 - sparse_categorical_accuracy: 0.9119 - val_loss: 0.2866 - val_sparse_categorical_accuracy: 0.8977\n",
            "Epoch 8/10\n",
            "50/50 [==============================] - 407s 8s/step - loss: 0.2229 - sparse_categorical_accuracy: 0.9174 - val_loss: 0.2659 - val_sparse_categorical_accuracy: 0.9061\n",
            "Epoch 9/10\n",
            "50/50 [==============================] - 407s 8s/step - loss: 0.2019 - sparse_categorical_accuracy: 0.9258 - val_loss: 0.2780 - val_sparse_categorical_accuracy: 0.9033\n",
            "Epoch 10/10\n",
            "50/50 [==============================] - 410s 8s/step - loss: 0.1818 - sparse_categorical_accuracy: 0.9331 - val_loss: 0.2603 - val_sparse_categorical_accuracy: 0.9094\n"
          ]
        }
      ],
      "source": [
        "\n",
        "history = model.fit(\n",
        "    trainX.astype(np.float32), trainy.astype(np.float32),\n",
        "    epochs=10,\n",
        "    steps_per_epoch=50,\n",
        "    validation_split=0.33\n",
        ")"
      ]
    },
    {
      "cell_type": "code",
      "execution_count": null,
      "metadata": {
        "id": "hvcR9nSM3jWs"
      },
      "outputs": [],
      "source": [
        "model.save_weights('./model.h5', overwrite=True)"
      ]
    },
    {
      "cell_type": "markdown",
      "metadata": {
        "id": "DyiXnE7Z32Wq"
      },
      "source": [
        "# Accuracy vs Epoch plot"
      ]
    },
    {
      "cell_type": "code",
      "execution_count": null,
      "metadata": {
        "colab": {
          "base_uri": "https://localhost:8080/",
          "height": 295
        },
        "id": "MGqyIpF33ygk",
        "outputId": "0458e5dd-1d40-45a6-dfca-893371614495"
      },
      "outputs": [
        {
          "data": {
            "image/png": "[encoded data removed]",
            "text/plain": [
              "<Figure size 432x288 with 1 Axes>"
            ]
          },
          "metadata": {},
          "output_type": "display_data"
        }
      ],
      "source": [
        "plt.plot(history.history['sparse_categorical_accuracy'])\n",
        "plt.plot(history.history['val_sparse_categorical_accuracy'])\n",
        "plt.title('Model Accuracy')\n",
        "plt.ylabel('Accuracy')\n",
        "plt.xlabel('epoch')\n",
        "plt.legend(['train', 'val'], loc='upper left')\n",
        "plt.show()"
      ]
    },
    {
      "cell_type": "markdown",
      "metadata": {
        "id": "GkUrqu5w37Ca"
      },
      "source": [
        "#Loss VS Epoch plot"
      ]
    },
    {
      "cell_type": "code",
      "execution_count": null,
      "metadata": {
        "colab": {
          "base_uri": "https://localhost:8080/",
          "height": 295
        },
        "id": "BHEp2cMY36Jn",
        "outputId": "5be3a0f4-05e7-4143-8968-b61520e8fb9e"
      },
      "outputs": [
        {
          "data": {
            "image/png": "[encoded data removed]",
            "text/plain": [
              "<Figure size 432x288 with 1 Axes>"
            ]
          },
          "metadata": {},
          "output_type": "display_data"
        }
      ],
      "source": [
        "plt.plot(history.history['loss'])\n",
        "plt.plot(history.history['val_loss'])\n",
        "plt.title('Model Accuracy')\n",
        "plt.ylabel('loss')\n",
        "plt.xlabel('epoch')\n",
        "plt.legend(['train', 'val'], loc='upper left')\n",
        "plt.show()"
      ]
    },
    {
      "cell_type": "code",
      "execution_count": null,
      "metadata": {
        "colab": {
          "base_uri": "https://localhost:8080/",
          "height": 300
        },
        "id": "eO-a9DqY4C5D",
        "outputId": "47138a6a-2b45-4e6e-ef3f-45f05360d85c"
      },
      "outputs": [
        {
          "name": "stdout",
          "output_type": "stream",
          "text": [
            "1/1 [==============================] - 0s 142ms/step\n",
            "ankle_boots\n"
          ]
        },
        {
          "data": {
            "image/png": "[encoded data removed]",
            "text/plain": [
              "<Figure size 432x288 with 1 Axes>"
            ]
          },
          "metadata": {},
          "output_type": "display_data"
        }
      ],
      "source": [
        "labels = ['t_shirt', 'trouser', 'pullover', 'dress', 'coat',\n",
        "          'sandal', 'shirt', 'sneaker', 'bag', 'ankle_boots']\n",
        "predictions = model.predict(testX[:1])\n",
        "label = labels[np.argmax(predictions)]\n",
        " \n",
        "print(label)\n",
        "plt.imshow(testX[:1][0])\n",
        "plt.show()"
      ]
    },
    {
      "cell_type": "markdown",
      "source": [
        "Q) Build CNN model for Linneaus5 dataset (you can download 32*32 size images)\n",
        "link to download dataset - http://chaladze.com/l5/"
      ],
      "metadata": {
        "id": "vbWn2ycc-WCi"
      }
    },
    {
      "cell_type": "markdown",
      "metadata": {
        "id": "CJ7oQAJgGact"
      },
      "source": [
        "##CNN on Linnaeus 5 dataset"
      ]
    },
    {
      "cell_type": "code",
      "execution_count": null,
      "metadata": {
        "id": "cjRL5CTb9K1Q"
      },
      "outputs": [],
      "source": [
        "import tensorflow as tf\n",
        "from tensorflow.keras.preprocessing.image import ImageDataGenerator"
      ]
    },
    {
      "cell_type": "code",
      "execution_count": null,
      "metadata": {
        "colab": {
          "base_uri": "https://localhost:8080/"
        },
        "id": "1UsOxnIyGh9l",
        "outputId": "c79eedc4-4850-49d2-9225-fea12d79ba73"
      },
      "outputs": [
        {
          "output_type": "stream",
          "name": "stdout",
          "text": [
            "Mounted at /content/gdrive\n"
          ]
        }
      ],
      "source": [
        "from google.colab import drive\n",
        "drive.mount('/content/gdrive')"
      ]
    },
    {
      "cell_type": "code",
      "execution_count": null,
      "metadata": {
        "id": "wsSvpFBYGiAn"
      },
      "outputs": [],
      "source": [
        "# Define the data paths\n",
        "train_dir = '/content/gdrive/MyDrive/Linnaeus 5 32X32/train'\n",
        "test_dir = '/content/gdrive/MyDrive/Linnaeus 5 32X32/test'"
      ]
    },
    {
      "cell_type": "code",
      "execution_count": null,
      "metadata": {
        "id": "87AZOl2CGiDr"
      },
      "outputs": [],
      "source": [
        "# Define the image size and batch size\n",
        "img_size = (224, 224)\n",
        "batch_size = 32"
      ]
    },
    {
      "cell_type": "code",
      "execution_count": null,
      "metadata": {
        "id": "xJTs9QaSGiGy"
      },
      "outputs": [],
      "source": [
        "train_datagen = ImageDataGenerator(\n",
        "    rescale=1./255,\n",
        "    shear_range=0.2,\n",
        "    zoom_range=0.2,\n",
        "    horizontal_flip=True)"
      ]
    },
    {
      "cell_type": "code",
      "execution_count": null,
      "metadata": {
        "id": "Vy-VUmeKGiJ6"
      },
      "outputs": [],
      "source": [
        "test_datagen = ImageDataGenerator(rescale=1./255)"
      ]
    },
    {
      "cell_type": "code",
      "execution_count": null,
      "metadata": {
        "colab": {
          "base_uri": "https://localhost:8080/"
        },
        "id": "nqQmPzAHGiNS",
        "outputId": "85d5cc1a-6468-4346-eef9-abe44281edc6"
      },
      "outputs": [
        {
          "output_type": "stream",
          "name": "stdout",
          "text": [
            "Found 6000 images belonging to 5 classes.\n"
          ]
        }
      ],
      "source": [
        "train_generator = train_datagen.flow_from_directory(\n",
        "    train_dir,\n",
        "    target_size=img_size,\n",
        "    batch_size=batch_size,\n",
        "    class_mode='categorical')"
      ]
    },
    {
      "cell_type": "code",
      "execution_count": null,
      "metadata": {
        "colab": {
          "base_uri": "https://localhost:8080/"
        },
        "id": "Y1orj3lw-BaZ",
        "outputId": "79481d6f-cf32-477b-f055-4ac44ddacaab"
      },
      "outputs": [
        {
          "output_type": "stream",
          "name": "stdout",
          "text": [
            "Found 2000 images belonging to 5 classes.\n"
          ]
        }
      ],
      "source": [
        "test_generator = test_datagen.flow_from_directory(\n",
        "    test_dir,\n",
        "    target_size=img_size,\n",
        "    batch_size=batch_size,\n",
        "    class_mode='categorical')"
      ]
    },
    {
      "cell_type": "code",
      "execution_count": null,
      "metadata": {
        "id": "h4Qp3_3r-Bex"
      },
      "outputs": [],
      "source": [
        "model = tf.keras.models.Sequential([\n",
        "    tf.keras.layers.Conv2D(32, (3, 3), activation='relu', input_shape=(224, 224, 3)),\n",
        "    tf.keras.layers.MaxPooling2D((2, 2)),\n",
        "    tf.keras.layers.Conv2D(64, (3, 3), activation='relu'),\n",
        "    tf.keras.layers.MaxPooling2D((2, 2)),\n",
        "    tf.keras.layers.Conv2D(128, (3, 3), activation='relu'),\n",
        "    tf.keras.layers.MaxPooling2D((2, 2)),\n",
        "    tf.keras.layers.Flatten(),\n",
        "    tf.keras.layers.Dense(128, activation='relu'),\n",
        "    tf.keras.layers.Dropout(0.5),\n",
        "    tf.keras.layers.Dense(5, activation='softmax')\n",
        "])"
      ]
    },
    {
      "cell_type": "code",
      "execution_count": null,
      "metadata": {
        "id": "7Uw6W_5c-JJr"
      },
      "outputs": [],
      "source": [
        "model.compile(optimizer='adam', loss='categorical_crossentropy', metrics=['accuracy'])"
      ]
    },
    {
      "cell_type": "code",
      "execution_count": null,
      "metadata": {
        "colab": {
          "base_uri": "https://localhost:8080/"
        },
        "id": "7SFzO3Hs-Miu",
        "outputId": "8ee355f4-22bb-41bc-8a0a-3d16e79771ff"
      },
      "outputs": [
        {
          "output_type": "stream",
          "name": "stdout",
          "text": [
            "Epoch 1/10\n",
            "188/188 [==============================] - 1373s 7s/step - loss: 1.4852 - accuracy: 0.3433 - val_loss: 1.2846 - val_accuracy: 0.4530\n",
            "Epoch 2/10\n",
            "188/188 [==============================] - 891s 5s/step - loss: 1.2733 - accuracy: 0.4600 - val_loss: 1.2436 - val_accuracy: 0.4815\n",
            "Epoch 3/10\n",
            "188/188 [==============================] - 905s 5s/step - loss: 1.2073 - accuracy: 0.4960 - val_loss: 1.1389 - val_accuracy: 0.5430\n",
            "Epoch 4/10\n",
            "188/188 [==============================] - 870s 5s/step - loss: 1.1699 - accuracy: 0.5145 - val_loss: 1.1184 - val_accuracy: 0.5490\n",
            "Epoch 5/10\n",
            "188/188 [==============================] - 858s 5s/step - loss: 1.1285 - accuracy: 0.5353 - val_loss: 1.0616 - val_accuracy: 0.5730\n",
            "Epoch 6/10\n",
            "188/188 [==============================] - 852s 5s/step - loss: 1.0905 - accuracy: 0.5518 - val_loss: 1.0589 - val_accuracy: 0.5640\n",
            "Epoch 7/10\n",
            "188/188 [==============================] - 855s 5s/step - loss: 1.0559 - accuracy: 0.5732 - val_loss: 0.9920 - val_accuracy: 0.6050\n",
            "Epoch 8/10\n",
            "188/188 [==============================] - 855s 5s/step - loss: 1.0110 - accuracy: 0.5830 - val_loss: 0.9507 - val_accuracy: 0.6190\n",
            "Epoch 9/10\n",
            "188/188 [==============================] - 853s 5s/step - loss: 0.9690 - accuracy: 0.6085 - val_loss: 0.9903 - val_accuracy: 0.5940\n",
            "Epoch 10/10\n",
            "188/188 [==============================] - 831s 4s/step - loss: 0.9545 - accuracy: 0.6190 - val_loss: 0.9742 - val_accuracy: 0.6085\n"
          ]
        }
      ],
      "source": [
        "history = model.fit(train_generator, epochs=10, validation_data=test_generator)"
      ]
    },
    {
      "cell_type": "code",
      "execution_count": null,
      "metadata": {
        "id": "U6RZQpBm-PDZ",
        "colab": {
          "base_uri": "https://localhost:8080/"
        },
        "outputId": "1fd7245f-5308-42b1-a9d1-995df3c573be"
      },
      "outputs": [
        {
          "output_type": "stream",
          "name": "stdout",
          "text": [
            "63/63 [==============================] - 73s 1s/step - loss: 0.9742 - accuracy: 0.6085\n",
            "Test accuracy: 0.6085000038146973\n"
          ]
        }
      ],
      "source": [
        "test_loss, test_acc = model.evaluate(test_generator)\n",
        "print('Test accuracy:', test_acc)"
      ]
    },
    {
      "cell_type": "markdown",
      "source": [
        "#Accuracy VS Epoch plot"
      ],
      "metadata": {
        "id": "lPBh4nKwgtl6"
      }
    },
    {
      "cell_type": "code",
      "execution_count": null,
      "metadata": {
        "id": "pnmF0wdyWzBX",
        "colab": {
          "base_uri": "https://localhost:8080/",
          "height": 295
        },
        "outputId": "4452c4c6-2709-450b-b26d-30d20a053f46"
      },
      "outputs": [
        {
          "output_type": "display_data",
          "data": {
            "text/plain": [
              "<Figure size 432x288 with 1 Axes>"
            ],
            "image/png": "[encoded data removed]"
          },
          "metadata": {
            "needs_background": "light"
          }
        }
      ],
      "source": [
        "plt.plot(history.history['accuracy'])\n",
        "plt.plot(history.history['val_accuracy'])\n",
        "plt.title('Model Accuracy')\n",
        "plt.ylabel('Accuracy')\n",
        "plt.xlabel('epoch')\n",
        "plt.legend(['train', 'val'], loc='upper left')\n",
        "plt.show()"
      ]
    },
    {
      "cell_type": "markdown",
      "source": [
        "#Loss VS Epoch plot"
      ],
      "metadata": {
        "id": "hJ8ZUJ9MgxgQ"
      }
    },
    {
      "cell_type": "code",
      "source": [
        "plt.plot(history.history['loss'])\n",
        "plt.plot(history.history['val_loss'])\n",
        "plt.title('Model Loss')\n",
        "plt.ylabel('Loss')\n",
        "plt.xlabel('epoch')\n",
        "plt.legend(['train', 'val'], loc='upper left')\n",
        "plt.show()"
      ],
      "metadata": {
        "colab": {
          "base_uri": "https://localhost:8080/",
          "height": 295
        },
        "id": "gQfF4tAJ4o-K",
        "outputId": "e104b604-c2fb-4dd4-ca75-92bdb5a4051a"
      },
      "execution_count": null,
      "outputs": [
        {
          "output_type": "display_data",
          "data": {
            "text/plain": [
              "<Figure size 432x288 with 1 Axes>"
            ],
            "image/png": "[encoded data removed]"
          },
          "metadata": {
            "needs_background": "light"
          }
        }
      ]
    },
    {
      "cell_type": "markdown",
      "source": [
        "Q) Perform experiment while on any color image dataset - convert images to grayscale and train CNN on those images and compare its performance with CNN trained on original color images  \n"
      ],
      "metadata": {
        "id": "ivxCC99X-SJZ"
      }
    },
    {
      "cell_type": "markdown",
      "source": [
        "#gray scale on cifar-10 dataset "
      ],
      "metadata": {
        "id": "1AMF3-SiIJ_0"
      }
    },
    {
      "cell_type": "code",
      "source": [
        "import numpy as np\n",
        "import matplotlib.pyplot as plt\n",
        "from keras.datasets import cifar10\n",
        "from keras.utils import to_categorical\n",
        "from keras.models import Sequential"
      ],
      "metadata": {
        "id": "ORc1geBZIUq6"
      },
      "execution_count": null,
      "outputs": []
    },
    {
      "cell_type": "code",
      "source": [
        "# Load the CIFAR-10 dataset\n",
        "(train_images, train_labels), (test_images, test_labels) = cifar10.load_data()"
      ],
      "metadata": {
        "colab": {
          "base_uri": "https://localhost:8080/"
        },
        "id": "8QUn8IptAILR",
        "outputId": "3fd22a82-6fca-495c-c77b-2043c2d88360"
      },
      "execution_count": null,
      "outputs": [
        {
          "output_type": "stream",
          "name": "stdout",
          "text": [
            "Downloading data from https://www.cs.toronto.edu/~kriz/cifar-10-python.tar.gz\n",
            "170498071/170498071 [==============================] - 11s 0us/step\n"
          ]
        }
      ]
    },
    {
      "cell_type": "code",
      "source": [
        "# Convert the images to grayscale\n",
        "train_images_gray = np.dot(train_images, [0.299, 0.587, 0.114])\n",
        "test_images_gray = np.dot(test_images, [0.299, 0.587, 0.114])"
      ],
      "metadata": {
        "id": "lBomzCh3IOkS"
      },
      "execution_count": null,
      "outputs": []
    },
    {
      "cell_type": "code",
      "source": [
        "# Normalize the image data\n",
        "train_images_gray = train_images_gray / 255.0\n",
        "test_images_gray = test_images_gray / 255.0"
      ],
      "metadata": {
        "id": "uwMQ2ddbIeAa"
      },
      "execution_count": null,
      "outputs": []
    },
    {
      "cell_type": "code",
      "source": [
        "# Convert the labels to categorical format\n",
        "train_labels_cat = to_categorical(train_labels)\n",
        "test_labels_cat = to_categorical(test_labels)"
      ],
      "metadata": {
        "id": "4b063CXeIjo9"
      },
      "execution_count": null,
      "outputs": []
    },
    {
      "cell_type": "code",
      "source": [
        "cifar10_model = tf.keras.models.Sequential()\n",
        "cifar10_model.add(tf.keras.layers.Conv2D(filters=32,kernel_size=3,padding=\"same\", activation=\"relu\", input_shape=[32,32,1]))\n",
        "cifar10_model.add(tf.keras.layers.Conv2D(filters=32,kernel_size=3,padding=\"same\", activation=\"relu\"))\n",
        "cifar10_model.add(tf.keras.layers.MaxPool2D(pool_size=2,strides=2,padding='valid'))\n",
        "cifar10_model.add(tf.keras.layers.Conv2D(filters=64,kernel_size=3,padding=\"same\", activation=\"relu\"))\n",
        "cifar10_model.add(tf.keras.layers.Conv2D(filters=64,kernel_size=3,padding=\"same\", activation=\"relu\"))\n",
        "cifar10_model.add(tf.keras.layers.MaxPool2D(pool_size=2,strides=2,padding='valid'))\n",
        "cifar10_model.add(tf.keras.layers.Flatten())\n",
        "cifar10_model.add(tf.keras.layers.Dropout(0.5,noise_shape=None,seed=None))\n",
        "cifar10_model.add(tf.keras.layers.Dense(units=128,activation='relu'))\n",
        "cifar10_model.add(tf.keras.layers.Dense(units=10,activation='softmax'))\n",
        "cifar10_model.summary()"
      ],
      "metadata": {
        "colab": {
          "base_uri": "https://localhost:8080/"
        },
        "id": "5m-Gg8F5vk93",
        "outputId": "e69b0626-56f2-490d-e8a5-b7386cd103e8"
      },
      "execution_count": null,
      "outputs": [
        {
          "output_type": "stream",
          "name": "stdout",
          "text": [
            "Model: \"sequential\"\n",
            "_________________________________________________________________\n",
            " Layer (type)                Output Shape              Param #   \n",
            "=================================================================\n",
            " conv2d (Conv2D)             (None, 32, 32, 32)        320       \n",
            "                                                                 \n",
            " conv2d_1 (Conv2D)           (None, 32, 32, 32)        9248      \n",
            "                                                                 \n",
            " max_pooling2d (MaxPooling2D  (None, 16, 16, 32)       0         \n",
            " )                                                               \n",
            "                                                                 \n",
            " conv2d_2 (Conv2D)           (None, 16, 16, 64)        18496     \n",
            "                                                                 \n",
            " conv2d_3 (Conv2D)           (None, 16, 16, 64)        36928     \n",
            "                                                                 \n",
            " max_pooling2d_1 (MaxPooling  (None, 8, 8, 64)         0         \n",
            " 2D)                                                             \n",
            "                                                                 \n",
            " flatten (Flatten)           (None, 4096)              0         \n",
            "                                                                 \n",
            " dropout (Dropout)           (None, 4096)              0         \n",
            "                                                                 \n",
            " dense (Dense)               (None, 128)               524416    \n",
            "                                                                 \n",
            " dense_1 (Dense)             (None, 10)                1290      \n",
            "                                                                 \n",
            "=================================================================\n",
            "Total params: 590,698\n",
            "Trainable params: 590,698\n",
            "Non-trainable params: 0\n",
            "_________________________________________________________________\n"
          ]
        }
      ]
    },
    {
      "cell_type": "code",
      "source": [
        "# Compile the model\n",
        "cifar10_model.compile(optimizer='adam', loss='categorical_crossentropy', metrics=['accuracy'])"
      ],
      "metadata": {
        "id": "E5b_Bme2IuX_"
      },
      "execution_count": null,
      "outputs": []
    },
    {
      "cell_type": "code",
      "source": [
        "# Train the model\n",
        "history = cifar10_model.fit(train_images_gray.reshape((-1, 32, 32, 1)), train_labels_cat, epochs=10, batch_size=128, validation_data=(test_images_gray.reshape((-1, 32, 32, 1)), test_labels_cat))"
      ],
      "metadata": {
        "colab": {
          "base_uri": "https://localhost:8080/"
        },
        "id": "5rbbj0FsJAF8",
        "outputId": "c4690a63-e5ae-401e-9fd2-47eb44c06d35"
      },
      "execution_count": null,
      "outputs": [
        {
          "output_type": "stream",
          "name": "stdout",
          "text": [
            "Epoch 1/10\n",
            "391/391 [==============================] - 326s 829ms/step - loss: 1.6543 - accuracy: 0.4066 - val_loss: 1.2914 - val_accuracy: 0.5357\n",
            "Epoch 2/10\n",
            "391/391 [==============================] - 322s 824ms/step - loss: 1.2079 - accuracy: 0.5772 - val_loss: 1.0744 - val_accuracy: 0.6281\n",
            "Epoch 3/10\n",
            "391/391 [==============================] - 319s 817ms/step - loss: 1.0305 - accuracy: 0.6412 - val_loss: 0.9380 - val_accuracy: 0.6727\n",
            "Epoch 4/10\n",
            "391/391 [==============================] - 321s 820ms/step - loss: 0.9176 - accuracy: 0.6806 - val_loss: 0.8563 - val_accuracy: 0.7044\n",
            "Epoch 5/10\n",
            "391/391 [==============================] - 329s 843ms/step - loss: 0.8234 - accuracy: 0.7148 - val_loss: 0.8220 - val_accuracy: 0.7151\n",
            "Epoch 6/10\n",
            "391/391 [==============================] - 318s 813ms/step - loss: 0.7631 - accuracy: 0.7332 - val_loss: 0.7954 - val_accuracy: 0.7231\n",
            "Epoch 7/10\n",
            "391/391 [==============================] - 320s 818ms/step - loss: 0.7020 - accuracy: 0.7570 - val_loss: 0.7364 - val_accuracy: 0.7419\n",
            "Epoch 8/10\n",
            "391/391 [==============================] - 317s 810ms/step - loss: 0.6559 - accuracy: 0.7703 - val_loss: 0.7439 - val_accuracy: 0.7466\n",
            "Epoch 9/10\n",
            "391/391 [==============================] - 309s 790ms/step - loss: 0.6136 - accuracy: 0.7837 - val_loss: 0.7156 - val_accuracy: 0.7534\n",
            "Epoch 10/10\n",
            "391/391 [==============================] - 309s 791ms/step - loss: 0.5835 - accuracy: 0.7968 - val_loss: 0.7128 - val_accuracy: 0.7555\n"
          ]
        }
      ]
    },
    {
      "cell_type": "code",
      "source": [
        "# Evaluate the model on the test set\n",
        "test_loss, test_acc = cifar10_model.evaluate(test_images_gray.reshape((-1, 32, 32, 1)), test_labels_cat)\n",
        "print('Test accuracy:', test_acc)"
      ],
      "metadata": {
        "colab": {
          "base_uri": "https://localhost:8080/"
        },
        "id": "9aQ8ni-xIzia",
        "outputId": "32f42aab-66c1-452f-cccc-14ce562b583a"
      },
      "execution_count": null,
      "outputs": [
        {
          "output_type": "stream",
          "name": "stdout",
          "text": [
            "313/313 [==============================] - 29s 93ms/step - loss: 0.7128 - accuracy: 0.7555\n",
            "Test accuracy: 0.7555000185966492\n"
          ]
        }
      ]
    },
    {
      "cell_type": "markdown",
      "source": [
        "**Testing accuracy obtained by converting grayscale images of cifar-10 is 75.5% which is comparatively lesser than the coloured images whose accuracy is 76.34% found above** "
      ],
      "metadata": {
        "id": "ilKf1fAS8Xjb"
      }
    },
    {
      "cell_type": "code",
      "source": [
        "# Plot the training and validation accuracy over epochs\n",
        "plt.plot(history.history['accuracy'])\n",
        "plt.plot(history.history['val_accuracy'])\n",
        "plt.title('Model accuracy')\n",
        "plt.ylabel('Accuracy')\n",
        "plt.xlabel('Epoch')\n",
        "plt.legend(['Train', 'Validation'], loc='lower right')\n",
        "plt.show()"
      ],
      "metadata": {
        "colab": {
          "base_uri": "https://localhost:8080/",
          "height": 295
        },
        "id": "p4IohVpyJMyx",
        "outputId": "e294c45f-a018-4846-cd2b-5121c662c226"
      },
      "execution_count": null,
      "outputs": [
        {
          "output_type": "display_data",
          "data": {
            "text/plain": [
              "<Figure size 432x288 with 1 Axes>"
            ],
            "image/png": "[encoded data removed]"
          },
          "metadata": {
            "needs_background": "light"
          }
        }
      ]
    },
    {
      "cell_type": "code",
      "source": [
        "plt.plot(history.history['loss'])\n",
        "plt.plot(history.history['val_loss'])\n",
        "plt.title('Model Loss')\n",
        "plt.ylabel('Loss')\n",
        "plt.xlabel('Epoch')\n",
        "plt.legend(['Train', 'Validation'], loc='lower right')\n",
        "plt.show()"
      ],
      "metadata": {
        "colab": {
          "base_uri": "https://localhost:8080/",
          "height": 295
        },
        "id": "h9rhKF6Cg4DV",
        "outputId": "64eec101-1237-4147-8bd4-31b8751b0904"
      },
      "execution_count": null,
      "outputs": [
        {
          "output_type": "display_data",
          "data": {
            "text/plain": [
              "<Figure size 432x288 with 1 Axes>"
            ],
            "image/png": "[encoded data removed]"
          },
          "metadata": {
            "needs_background": "light"
          }
        }
      ]
    },
    {
      "cell_type": "markdown",
      "source": [
        "**Comparison between coloured and grayscale images** :\n",
        "\n",
        "- In general, CNN models tend to perform better on colored images because they have access to more information and features (i.e., RGB channels) compared to grayscale images that only have one channel\n",
        "- However, there can be cases where applying a CNN on grayscale images can lead to comparable or even better accuracy than colored images. For example, if the color information in an image is not relevant to the task at hand (e.g., detecting edges, contours, or shapes), then using grayscale images may be sufficient and even faster for the model to process.\n",
        "- In the specific case of the CIFAR-10 dataset, which contains 32x32 colored images, it has been observed that applying a CNN on grayscale images can result in lower accuracy compared to using colored images. This is likely because the color information in CIFAR-10 images can be relevant for distinguishing between different classes of objects (e.g., cars, planes, birds, etc.)"
      ],
      "metadata": {
        "id": "HbIGlypihgg5"
      }
    },
    {
      "cell_type": "code",
      "source": [],
      "metadata": {
        "id": "eG6H4kDShAQT"
      },
      "execution_count": null,
      "outputs": []
    }
  ],
  "metadata": {
    "colab": {
      "provenance": []
    },
    "kernelspec": {
      "display_name": "Python 3",
      "name": "python3"
    },
    "language_info": {
      "name": "python"
    }
  },
  "nbformat": 4,
  "nbformat_minor": 0
}